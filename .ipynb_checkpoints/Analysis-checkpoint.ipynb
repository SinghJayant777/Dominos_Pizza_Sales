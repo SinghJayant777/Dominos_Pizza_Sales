{
 "cells": [
  {
   "cell_type": "code",
   "execution_count": 1,
   "id": "e4aa7337-cc8e-41c1-b9a8-5817148cdd8d",
   "metadata": {},
   "outputs": [],
   "source": [
    "import pandas as pd\n",
    "import numpy as np\n",
    "import matplotlib.pyplot as plt #visulalization of data\n",
    "import seaborn as sns"
   ]
  },
  {
   "cell_type": "code",
   "execution_count": 2,
   "id": "cb337484-6887-46d4-a86f-dd3d5d003277",
   "metadata": {},
   "outputs": [],
   "source": [
    "df = pd.read_csv('pizza_sales.csv')"
   ]
  },
  {
   "cell_type": "code",
   "execution_count": 3,
   "id": "fdbca40e-728f-4c45-8b23-02ed9510c147",
   "metadata": {},
   "outputs": [
    {
     "data": {
      "text/plain": [
       "(129, 19)"
      ]
     },
     "execution_count": 3,
     "metadata": {},
     "output_type": "execute_result"
    }
   ],
   "source": [
    "df.shape"
   ]
  },
  {
   "cell_type": "code",
   "execution_count": 4,
   "id": "a007e240-ac39-43af-8133-10b4955dcc73",
   "metadata": {},
   "outputs": [
    {
     "data": {
      "text/html": [
       "<div>\n",
       "<style scoped>\n",
       "    .dataframe tbody tr th:only-of-type {\n",
       "        vertical-align: middle;\n",
       "    }\n",
       "\n",
       "    .dataframe tbody tr th {\n",
       "        vertical-align: top;\n",
       "    }\n",
       "\n",
       "    .dataframe thead th {\n",
       "        text-align: right;\n",
       "    }\n",
       "</style>\n",
       "<table border=\"1\" class=\"dataframe\">\n",
       "  <thead>\n",
       "    <tr style=\"text-align: right;\">\n",
       "      <th></th>\n",
       "      <th>customer_name</th>\n",
       "      <th>address</th>\n",
       "      <th>pizza_id</th>\n",
       "      <th>order_id</th>\n",
       "      <th>pizza_name_id</th>\n",
       "      <th>quantity</th>\n",
       "      <th>order_date</th>\n",
       "      <th>order_time</th>\n",
       "      <th>unit_price</th>\n",
       "      <th>total_price</th>\n",
       "      <th>pizza_size</th>\n",
       "      <th>pizza_category</th>\n",
       "      <th>pizza_ingredients</th>\n",
       "      <th>pizza_name</th>\n",
       "      <th>country</th>\n",
       "      <th>state</th>\n",
       "      <th>customer_age</th>\n",
       "      <th>payment_mode</th>\n",
       "      <th>discount</th>\n",
       "    </tr>\n",
       "  </thead>\n",
       "  <tbody>\n",
       "    <tr>\n",
       "      <th>0</th>\n",
       "      <td>John Doe</td>\n",
       "      <td>123 Main St</td>\n",
       "      <td>1.0</td>\n",
       "      <td>1.0</td>\n",
       "      <td>hawaiian_m</td>\n",
       "      <td>1.0</td>\n",
       "      <td>1/1/2015</td>\n",
       "      <td>11:38:36</td>\n",
       "      <td>13.25</td>\n",
       "      <td>13.25</td>\n",
       "      <td>M</td>\n",
       "      <td>Classic</td>\n",
       "      <td>Sliced Ham, Pineapple, Mozzarella Cheese</td>\n",
       "      <td>The Hawaiian Pizza</td>\n",
       "      <td>India</td>\n",
       "      <td>Maharashtra</td>\n",
       "      <td>28</td>\n",
       "      <td>Card</td>\n",
       "      <td>0.50</td>\n",
       "    </tr>\n",
       "    <tr>\n",
       "      <th>1</th>\n",
       "      <td>Emma Johnson</td>\n",
       "      <td>456 Elm St</td>\n",
       "      <td>2.0</td>\n",
       "      <td>2.0</td>\n",
       "      <td>classic_dlx_m</td>\n",
       "      <td>1.0</td>\n",
       "      <td>1/1/2015</td>\n",
       "      <td>11:57:40</td>\n",
       "      <td>16.00</td>\n",
       "      <td>16.00</td>\n",
       "      <td>M</td>\n",
       "      <td>Classic</td>\n",
       "      <td>Pepperoni, Mushrooms, Red Onions, Red Peppers,...</td>\n",
       "      <td>The Classic Deluxe Pizza</td>\n",
       "      <td>USA</td>\n",
       "      <td>California</td>\n",
       "      <td>35</td>\n",
       "      <td>Cash</td>\n",
       "      <td>0.75</td>\n",
       "    </tr>\n",
       "    <tr>\n",
       "      <th>2</th>\n",
       "      <td>Michael Brown</td>\n",
       "      <td>789 Oak St</td>\n",
       "      <td>3.0</td>\n",
       "      <td>2.0</td>\n",
       "      <td>five_cheese_l</td>\n",
       "      <td>1.0</td>\n",
       "      <td>1/1/2015</td>\n",
       "      <td>11:57:40</td>\n",
       "      <td>18.50</td>\n",
       "      <td>18.50</td>\n",
       "      <td>L</td>\n",
       "      <td>Veggie</td>\n",
       "      <td>Mozzarella Cheese, Provolone Cheese, Smoked Go...</td>\n",
       "      <td>The Five Cheese Pizza</td>\n",
       "      <td>Germany</td>\n",
       "      <td>Bavaria</td>\n",
       "      <td>42</td>\n",
       "      <td>Card</td>\n",
       "      <td>0.25</td>\n",
       "    </tr>\n",
       "    <tr>\n",
       "      <th>3</th>\n",
       "      <td>Sophia Martinez</td>\n",
       "      <td>101 Pine St</td>\n",
       "      <td>4.0</td>\n",
       "      <td>2.0</td>\n",
       "      <td>ital_supr_l</td>\n",
       "      <td>1.0</td>\n",
       "      <td>1/1/2015</td>\n",
       "      <td>11:57:40</td>\n",
       "      <td>20.75</td>\n",
       "      <td>20.75</td>\n",
       "      <td>L</td>\n",
       "      <td>Supreme</td>\n",
       "      <td>Calabrese Salami, Capocollo, Tomatoes, Red Oni...</td>\n",
       "      <td>The Italian Supreme Pizza</td>\n",
       "      <td>Canada</td>\n",
       "      <td>Ontario</td>\n",
       "      <td>29</td>\n",
       "      <td>Cash</td>\n",
       "      <td>0.80</td>\n",
       "    </tr>\n",
       "    <tr>\n",
       "      <th>4</th>\n",
       "      <td>James Smith</td>\n",
       "      <td>202 Cedar St</td>\n",
       "      <td>5.0</td>\n",
       "      <td>2.0</td>\n",
       "      <td>mexicana_m</td>\n",
       "      <td>1.0</td>\n",
       "      <td>1/1/2015</td>\n",
       "      <td>11:57:40</td>\n",
       "      <td>16.00</td>\n",
       "      <td>16.00</td>\n",
       "      <td>M</td>\n",
       "      <td>Veggie</td>\n",
       "      <td>Tomatoes, Red Peppers, Jalapeno Peppers, Red O...</td>\n",
       "      <td>The Mexicana Pizza</td>\n",
       "      <td>France</td>\n",
       "      <td>Île-de-France</td>\n",
       "      <td>37</td>\n",
       "      <td>Card</td>\n",
       "      <td>0.40</td>\n",
       "    </tr>\n",
       "  </tbody>\n",
       "</table>\n",
       "</div>"
      ],
      "text/plain": [
       "     customer_name       address  pizza_id  order_id  pizza_name_id  quantity  \\\n",
       "0         John Doe   123 Main St       1.0       1.0     hawaiian_m       1.0   \n",
       "1     Emma Johnson    456 Elm St       2.0       2.0  classic_dlx_m       1.0   \n",
       "2    Michael Brown    789 Oak St       3.0       2.0  five_cheese_l       1.0   \n",
       "3  Sophia Martinez   101 Pine St       4.0       2.0    ital_supr_l       1.0   \n",
       "4      James Smith  202 Cedar St       5.0       2.0     mexicana_m       1.0   \n",
       "\n",
       "  order_date order_time  unit_price  total_price pizza_size pizza_category  \\\n",
       "0   1/1/2015   11:38:36       13.25        13.25          M        Classic   \n",
       "1   1/1/2015   11:57:40       16.00        16.00          M        Classic   \n",
       "2   1/1/2015   11:57:40       18.50        18.50          L         Veggie   \n",
       "3   1/1/2015   11:57:40       20.75        20.75          L        Supreme   \n",
       "4   1/1/2015   11:57:40       16.00        16.00          M         Veggie   \n",
       "\n",
       "                                   pizza_ingredients  \\\n",
       "0           Sliced Ham, Pineapple, Mozzarella Cheese   \n",
       "1  Pepperoni, Mushrooms, Red Onions, Red Peppers,...   \n",
       "2  Mozzarella Cheese, Provolone Cheese, Smoked Go...   \n",
       "3  Calabrese Salami, Capocollo, Tomatoes, Red Oni...   \n",
       "4  Tomatoes, Red Peppers, Jalapeno Peppers, Red O...   \n",
       "\n",
       "                  pizza_name  country          state  customer_age  \\\n",
       "0         The Hawaiian Pizza    India    Maharashtra            28   \n",
       "1   The Classic Deluxe Pizza      USA     California            35   \n",
       "2      The Five Cheese Pizza  Germany        Bavaria            42   \n",
       "3  The Italian Supreme Pizza   Canada        Ontario            29   \n",
       "4         The Mexicana Pizza   France  Île-de-France            37   \n",
       "\n",
       "  payment_mode  discount  \n",
       "0         Card      0.50  \n",
       "1         Cash      0.75  \n",
       "2         Card      0.25  \n",
       "3         Cash      0.80  \n",
       "4         Card      0.40  "
      ]
     },
     "execution_count": 4,
     "metadata": {},
     "output_type": "execute_result"
    }
   ],
   "source": [
    "df.head()"
   ]
  },
  {
   "cell_type": "code",
   "execution_count": 5,
   "id": "c4f9134b-b124-42cd-8143-745ac9ed6e3b",
   "metadata": {},
   "outputs": [
    {
     "name": "stdout",
     "output_type": "stream",
     "text": [
      "<class 'pandas.core.frame.DataFrame'>\n",
      "RangeIndex: 129 entries, 0 to 128\n",
      "Data columns (total 19 columns):\n",
      " #   Column             Non-Null Count  Dtype  \n",
      "---  ------             --------------  -----  \n",
      " 0   customer_name      129 non-null    object \n",
      " 1   address            129 non-null    object \n",
      " 2   pizza_id           129 non-null    float64\n",
      " 3   order_id           129 non-null    float64\n",
      " 4   pizza_name_id      129 non-null    object \n",
      " 5   quantity           129 non-null    float64\n",
      " 6   order_date         129 non-null    object \n",
      " 7   order_time         129 non-null    object \n",
      " 8   unit_price         129 non-null    float64\n",
      " 9   total_price        129 non-null    float64\n",
      " 10  pizza_size         129 non-null    object \n",
      " 11  pizza_category     129 non-null    object \n",
      " 12  pizza_ingredients  129 non-null    object \n",
      " 13  pizza_name         129 non-null    object \n",
      " 14  country            129 non-null    object \n",
      " 15  state              129 non-null    object \n",
      " 16  customer_age       129 non-null    int64  \n",
      " 17  payment_mode       129 non-null    object \n",
      " 18  discount           129 non-null    float64\n",
      "dtypes: float64(6), int64(1), object(12)\n",
      "memory usage: 19.3+ KB\n"
     ]
    }
   ],
   "source": [
    "df.info()"
   ]
  },
  {
   "cell_type": "code",
   "execution_count": 6,
   "id": "aac8fad1-2e10-43b0-9571-f7269e87c876",
   "metadata": {},
   "outputs": [],
   "source": [
    "# Remove the unrelevant column\n",
    "df.drop(['pizza_name_id'], axis = 1, inplace = True)"
   ]
  },
  {
   "cell_type": "code",
   "execution_count": 7,
   "id": "dacb84b1-0ad9-40de-b79d-5ecdc6047901",
   "metadata": {},
   "outputs": [
    {
     "data": {
      "text/html": [
       "<div>\n",
       "<style scoped>\n",
       "    .dataframe tbody tr th:only-of-type {\n",
       "        vertical-align: middle;\n",
       "    }\n",
       "\n",
       "    .dataframe tbody tr th {\n",
       "        vertical-align: top;\n",
       "    }\n",
       "\n",
       "    .dataframe thead th {\n",
       "        text-align: right;\n",
       "    }\n",
       "</style>\n",
       "<table border=\"1\" class=\"dataframe\">\n",
       "  <thead>\n",
       "    <tr style=\"text-align: right;\">\n",
       "      <th></th>\n",
       "      <th>customer_name</th>\n",
       "      <th>address</th>\n",
       "      <th>pizza_id</th>\n",
       "      <th>order_id</th>\n",
       "      <th>quantity</th>\n",
       "      <th>order_date</th>\n",
       "      <th>order_time</th>\n",
       "      <th>unit_price</th>\n",
       "      <th>total_price</th>\n",
       "      <th>pizza_size</th>\n",
       "      <th>pizza_category</th>\n",
       "      <th>pizza_ingredients</th>\n",
       "      <th>pizza_name</th>\n",
       "      <th>country</th>\n",
       "      <th>state</th>\n",
       "      <th>customer_age</th>\n",
       "      <th>payment_mode</th>\n",
       "      <th>discount</th>\n",
       "    </tr>\n",
       "  </thead>\n",
       "  <tbody>\n",
       "    <tr>\n",
       "      <th>0</th>\n",
       "      <td>False</td>\n",
       "      <td>False</td>\n",
       "      <td>False</td>\n",
       "      <td>False</td>\n",
       "      <td>False</td>\n",
       "      <td>False</td>\n",
       "      <td>False</td>\n",
       "      <td>False</td>\n",
       "      <td>False</td>\n",
       "      <td>False</td>\n",
       "      <td>False</td>\n",
       "      <td>False</td>\n",
       "      <td>False</td>\n",
       "      <td>False</td>\n",
       "      <td>False</td>\n",
       "      <td>False</td>\n",
       "      <td>False</td>\n",
       "      <td>False</td>\n",
       "    </tr>\n",
       "    <tr>\n",
       "      <th>1</th>\n",
       "      <td>False</td>\n",
       "      <td>False</td>\n",
       "      <td>False</td>\n",
       "      <td>False</td>\n",
       "      <td>False</td>\n",
       "      <td>False</td>\n",
       "      <td>False</td>\n",
       "      <td>False</td>\n",
       "      <td>False</td>\n",
       "      <td>False</td>\n",
       "      <td>False</td>\n",
       "      <td>False</td>\n",
       "      <td>False</td>\n",
       "      <td>False</td>\n",
       "      <td>False</td>\n",
       "      <td>False</td>\n",
       "      <td>False</td>\n",
       "      <td>False</td>\n",
       "    </tr>\n",
       "    <tr>\n",
       "      <th>2</th>\n",
       "      <td>False</td>\n",
       "      <td>False</td>\n",
       "      <td>False</td>\n",
       "      <td>False</td>\n",
       "      <td>False</td>\n",
       "      <td>False</td>\n",
       "      <td>False</td>\n",
       "      <td>False</td>\n",
       "      <td>False</td>\n",
       "      <td>False</td>\n",
       "      <td>False</td>\n",
       "      <td>False</td>\n",
       "      <td>False</td>\n",
       "      <td>False</td>\n",
       "      <td>False</td>\n",
       "      <td>False</td>\n",
       "      <td>False</td>\n",
       "      <td>False</td>\n",
       "    </tr>\n",
       "    <tr>\n",
       "      <th>3</th>\n",
       "      <td>False</td>\n",
       "      <td>False</td>\n",
       "      <td>False</td>\n",
       "      <td>False</td>\n",
       "      <td>False</td>\n",
       "      <td>False</td>\n",
       "      <td>False</td>\n",
       "      <td>False</td>\n",
       "      <td>False</td>\n",
       "      <td>False</td>\n",
       "      <td>False</td>\n",
       "      <td>False</td>\n",
       "      <td>False</td>\n",
       "      <td>False</td>\n",
       "      <td>False</td>\n",
       "      <td>False</td>\n",
       "      <td>False</td>\n",
       "      <td>False</td>\n",
       "    </tr>\n",
       "    <tr>\n",
       "      <th>4</th>\n",
       "      <td>False</td>\n",
       "      <td>False</td>\n",
       "      <td>False</td>\n",
       "      <td>False</td>\n",
       "      <td>False</td>\n",
       "      <td>False</td>\n",
       "      <td>False</td>\n",
       "      <td>False</td>\n",
       "      <td>False</td>\n",
       "      <td>False</td>\n",
       "      <td>False</td>\n",
       "      <td>False</td>\n",
       "      <td>False</td>\n",
       "      <td>False</td>\n",
       "      <td>False</td>\n",
       "      <td>False</td>\n",
       "      <td>False</td>\n",
       "      <td>False</td>\n",
       "    </tr>\n",
       "    <tr>\n",
       "      <th>...</th>\n",
       "      <td>...</td>\n",
       "      <td>...</td>\n",
       "      <td>...</td>\n",
       "      <td>...</td>\n",
       "      <td>...</td>\n",
       "      <td>...</td>\n",
       "      <td>...</td>\n",
       "      <td>...</td>\n",
       "      <td>...</td>\n",
       "      <td>...</td>\n",
       "      <td>...</td>\n",
       "      <td>...</td>\n",
       "      <td>...</td>\n",
       "      <td>...</td>\n",
       "      <td>...</td>\n",
       "      <td>...</td>\n",
       "      <td>...</td>\n",
       "      <td>...</td>\n",
       "    </tr>\n",
       "    <tr>\n",
       "      <th>124</th>\n",
       "      <td>False</td>\n",
       "      <td>False</td>\n",
       "      <td>False</td>\n",
       "      <td>False</td>\n",
       "      <td>False</td>\n",
       "      <td>False</td>\n",
       "      <td>False</td>\n",
       "      <td>False</td>\n",
       "      <td>False</td>\n",
       "      <td>False</td>\n",
       "      <td>False</td>\n",
       "      <td>False</td>\n",
       "      <td>False</td>\n",
       "      <td>False</td>\n",
       "      <td>False</td>\n",
       "      <td>False</td>\n",
       "      <td>False</td>\n",
       "      <td>False</td>\n",
       "    </tr>\n",
       "    <tr>\n",
       "      <th>125</th>\n",
       "      <td>False</td>\n",
       "      <td>False</td>\n",
       "      <td>False</td>\n",
       "      <td>False</td>\n",
       "      <td>False</td>\n",
       "      <td>False</td>\n",
       "      <td>False</td>\n",
       "      <td>False</td>\n",
       "      <td>False</td>\n",
       "      <td>False</td>\n",
       "      <td>False</td>\n",
       "      <td>False</td>\n",
       "      <td>False</td>\n",
       "      <td>False</td>\n",
       "      <td>False</td>\n",
       "      <td>False</td>\n",
       "      <td>False</td>\n",
       "      <td>False</td>\n",
       "    </tr>\n",
       "    <tr>\n",
       "      <th>126</th>\n",
       "      <td>False</td>\n",
       "      <td>False</td>\n",
       "      <td>False</td>\n",
       "      <td>False</td>\n",
       "      <td>False</td>\n",
       "      <td>False</td>\n",
       "      <td>False</td>\n",
       "      <td>False</td>\n",
       "      <td>False</td>\n",
       "      <td>False</td>\n",
       "      <td>False</td>\n",
       "      <td>False</td>\n",
       "      <td>False</td>\n",
       "      <td>False</td>\n",
       "      <td>False</td>\n",
       "      <td>False</td>\n",
       "      <td>False</td>\n",
       "      <td>False</td>\n",
       "    </tr>\n",
       "    <tr>\n",
       "      <th>127</th>\n",
       "      <td>False</td>\n",
       "      <td>False</td>\n",
       "      <td>False</td>\n",
       "      <td>False</td>\n",
       "      <td>False</td>\n",
       "      <td>False</td>\n",
       "      <td>False</td>\n",
       "      <td>False</td>\n",
       "      <td>False</td>\n",
       "      <td>False</td>\n",
       "      <td>False</td>\n",
       "      <td>False</td>\n",
       "      <td>False</td>\n",
       "      <td>False</td>\n",
       "      <td>False</td>\n",
       "      <td>False</td>\n",
       "      <td>False</td>\n",
       "      <td>False</td>\n",
       "    </tr>\n",
       "    <tr>\n",
       "      <th>128</th>\n",
       "      <td>False</td>\n",
       "      <td>False</td>\n",
       "      <td>False</td>\n",
       "      <td>False</td>\n",
       "      <td>False</td>\n",
       "      <td>False</td>\n",
       "      <td>False</td>\n",
       "      <td>False</td>\n",
       "      <td>False</td>\n",
       "      <td>False</td>\n",
       "      <td>False</td>\n",
       "      <td>False</td>\n",
       "      <td>False</td>\n",
       "      <td>False</td>\n",
       "      <td>False</td>\n",
       "      <td>False</td>\n",
       "      <td>False</td>\n",
       "      <td>False</td>\n",
       "    </tr>\n",
       "  </tbody>\n",
       "</table>\n",
       "<p>129 rows × 18 columns</p>\n",
       "</div>"
      ],
      "text/plain": [
       "     customer_name  address  pizza_id  order_id  quantity  order_date  \\\n",
       "0            False    False     False     False     False       False   \n",
       "1            False    False     False     False     False       False   \n",
       "2            False    False     False     False     False       False   \n",
       "3            False    False     False     False     False       False   \n",
       "4            False    False     False     False     False       False   \n",
       "..             ...      ...       ...       ...       ...         ...   \n",
       "124          False    False     False     False     False       False   \n",
       "125          False    False     False     False     False       False   \n",
       "126          False    False     False     False     False       False   \n",
       "127          False    False     False     False     False       False   \n",
       "128          False    False     False     False     False       False   \n",
       "\n",
       "     order_time  unit_price  total_price  pizza_size  pizza_category  \\\n",
       "0         False       False        False       False           False   \n",
       "1         False       False        False       False           False   \n",
       "2         False       False        False       False           False   \n",
       "3         False       False        False       False           False   \n",
       "4         False       False        False       False           False   \n",
       "..          ...         ...          ...         ...             ...   \n",
       "124       False       False        False       False           False   \n",
       "125       False       False        False       False           False   \n",
       "126       False       False        False       False           False   \n",
       "127       False       False        False       False           False   \n",
       "128       False       False        False       False           False   \n",
       "\n",
       "     pizza_ingredients  pizza_name  country  state  customer_age  \\\n",
       "0                False       False    False  False         False   \n",
       "1                False       False    False  False         False   \n",
       "2                False       False    False  False         False   \n",
       "3                False       False    False  False         False   \n",
       "4                False       False    False  False         False   \n",
       "..                 ...         ...      ...    ...           ...   \n",
       "124              False       False    False  False         False   \n",
       "125              False       False    False  False         False   \n",
       "126              False       False    False  False         False   \n",
       "127              False       False    False  False         False   \n",
       "128              False       False    False  False         False   \n",
       "\n",
       "     payment_mode  discount  \n",
       "0           False     False  \n",
       "1           False     False  \n",
       "2           False     False  \n",
       "3           False     False  \n",
       "4           False     False  \n",
       "..            ...       ...  \n",
       "124         False     False  \n",
       "125         False     False  \n",
       "126         False     False  \n",
       "127         False     False  \n",
       "128         False     False  \n",
       "\n",
       "[129 rows x 18 columns]"
      ]
     },
     "execution_count": 7,
     "metadata": {},
     "output_type": "execute_result"
    }
   ],
   "source": [
    "pd.isnull(df)"
   ]
  },
  {
   "cell_type": "code",
   "execution_count": 8,
   "id": "f7e42c94-64fa-418e-98e6-fe919cd69dee",
   "metadata": {},
   "outputs": [
    {
     "data": {
      "text/plain": [
       "customer_name        0\n",
       "address              0\n",
       "pizza_id             0\n",
       "order_id             0\n",
       "quantity             0\n",
       "order_date           0\n",
       "order_time           0\n",
       "unit_price           0\n",
       "total_price          0\n",
       "pizza_size           0\n",
       "pizza_category       0\n",
       "pizza_ingredients    0\n",
       "pizza_name           0\n",
       "country              0\n",
       "state                0\n",
       "customer_age         0\n",
       "payment_mode         0\n",
       "discount             0\n",
       "dtype: int64"
      ]
     },
     "execution_count": 8,
     "metadata": {},
     "output_type": "execute_result"
    }
   ],
   "source": [
    "pd.isnull(df).sum()"
   ]
  },
  {
   "cell_type": "code",
   "execution_count": 9,
   "id": "bf86f755-00c2-4f62-8663-3a9d0b494b02",
   "metadata": {},
   "outputs": [
    {
     "data": {
      "text/plain": [
       "(129, 18)"
      ]
     },
     "execution_count": 9,
     "metadata": {},
     "output_type": "execute_result"
    }
   ],
   "source": [
    "df.shape"
   ]
  },
  {
   "cell_type": "code",
   "execution_count": 10,
   "id": "837e7830-2a52-4483-8cbd-26a3cf161474",
   "metadata": {},
   "outputs": [],
   "source": [
    "df.dropna(inplace = True)"
   ]
  },
  {
   "cell_type": "code",
   "execution_count": 11,
   "id": "8671ffa4-9f67-47bc-b1d6-d027068633d1",
   "metadata": {},
   "outputs": [
    {
     "data": {
      "text/html": [
       "<div>\n",
       "<style scoped>\n",
       "    .dataframe tbody tr th:only-of-type {\n",
       "        vertical-align: middle;\n",
       "    }\n",
       "\n",
       "    .dataframe tbody tr th {\n",
       "        vertical-align: top;\n",
       "    }\n",
       "\n",
       "    .dataframe thead th {\n",
       "        text-align: right;\n",
       "    }\n",
       "</style>\n",
       "<table border=\"1\" class=\"dataframe\">\n",
       "  <thead>\n",
       "    <tr style=\"text-align: right;\">\n",
       "      <th></th>\n",
       "      <th>Name</th>\n",
       "      <th>Age</th>\n",
       "    </tr>\n",
       "  </thead>\n",
       "  <tbody>\n",
       "    <tr>\n",
       "      <th>0</th>\n",
       "      <td>rohan</td>\n",
       "      <td>1.0</td>\n",
       "    </tr>\n",
       "    <tr>\n",
       "      <th>1</th>\n",
       "      <td>cishao</td>\n",
       "      <td>23.0</td>\n",
       "    </tr>\n",
       "    <tr>\n",
       "      <th>2</th>\n",
       "      <td>rahul</td>\n",
       "      <td>NaN</td>\n",
       "    </tr>\n",
       "    <tr>\n",
       "      <th>3</th>\n",
       "      <td>amit</td>\n",
       "      <td>38.0</td>\n",
       "    </tr>\n",
       "  </tbody>\n",
       "</table>\n",
       "</div>"
      ],
      "text/plain": [
       "     Name   Age\n",
       "0   rohan   1.0\n",
       "1  cishao  23.0\n",
       "2   rahul   NaN\n",
       "3    amit  38.0"
      ]
     },
     "execution_count": 11,
     "metadata": {},
     "output_type": "execute_result"
    }
   ],
   "source": [
    "# Significance of inplace \n",
    "# Initialized a list of lists\n",
    "test = [['rohan', 1], ['cishao',23],['rahul',],['amit',38]]\n",
    "# Creating a dataframe using list\n",
    "dftest = pd.DataFrame(test, columns= ['Name', 'Age'])\n",
    "dftest"
   ]
  },
  {
   "cell_type": "code",
   "execution_count": 12,
   "id": "2ff56947-efbc-4f85-a285-3ef29f5ee157",
   "metadata": {},
   "outputs": [
    {
     "data": {
      "text/html": [
       "<div>\n",
       "<style scoped>\n",
       "    .dataframe tbody tr th:only-of-type {\n",
       "        vertical-align: middle;\n",
       "    }\n",
       "\n",
       "    .dataframe tbody tr th {\n",
       "        vertical-align: top;\n",
       "    }\n",
       "\n",
       "    .dataframe thead th {\n",
       "        text-align: right;\n",
       "    }\n",
       "</style>\n",
       "<table border=\"1\" class=\"dataframe\">\n",
       "  <thead>\n",
       "    <tr style=\"text-align: right;\">\n",
       "      <th></th>\n",
       "      <th>Name</th>\n",
       "      <th>Age</th>\n",
       "    </tr>\n",
       "  </thead>\n",
       "  <tbody>\n",
       "    <tr>\n",
       "      <th>0</th>\n",
       "      <td>rohan</td>\n",
       "      <td>1.0</td>\n",
       "    </tr>\n",
       "    <tr>\n",
       "      <th>1</th>\n",
       "      <td>cishao</td>\n",
       "      <td>23.0</td>\n",
       "    </tr>\n",
       "    <tr>\n",
       "      <th>3</th>\n",
       "      <td>amit</td>\n",
       "      <td>38.0</td>\n",
       "    </tr>\n",
       "  </tbody>\n",
       "</table>\n",
       "</div>"
      ],
      "text/plain": [
       "     Name   Age\n",
       "0   rohan   1.0\n",
       "1  cishao  23.0\n",
       "3    amit  38.0"
      ]
     },
     "execution_count": 12,
     "metadata": {},
     "output_type": "execute_result"
    }
   ],
   "source": [
    "# Here we do not have made changes to original dataframe\n",
    "dftest.dropna()"
   ]
  },
  {
   "cell_type": "code",
   "execution_count": 13,
   "id": "8f18a1ff-90f1-424a-baef-6c0e06c9be64",
   "metadata": {},
   "outputs": [
    {
     "data": {
      "text/html": [
       "<div>\n",
       "<style scoped>\n",
       "    .dataframe tbody tr th:only-of-type {\n",
       "        vertical-align: middle;\n",
       "    }\n",
       "\n",
       "    .dataframe tbody tr th {\n",
       "        vertical-align: top;\n",
       "    }\n",
       "\n",
       "    .dataframe thead th {\n",
       "        text-align: right;\n",
       "    }\n",
       "</style>\n",
       "<table border=\"1\" class=\"dataframe\">\n",
       "  <thead>\n",
       "    <tr style=\"text-align: right;\">\n",
       "      <th></th>\n",
       "      <th>Name</th>\n",
       "      <th>Age</th>\n",
       "    </tr>\n",
       "  </thead>\n",
       "  <tbody>\n",
       "    <tr>\n",
       "      <th>0</th>\n",
       "      <td>rohan</td>\n",
       "      <td>1.0</td>\n",
       "    </tr>\n",
       "    <tr>\n",
       "      <th>1</th>\n",
       "      <td>cishao</td>\n",
       "      <td>23.0</td>\n",
       "    </tr>\n",
       "    <tr>\n",
       "      <th>2</th>\n",
       "      <td>rahul</td>\n",
       "      <td>NaN</td>\n",
       "    </tr>\n",
       "    <tr>\n",
       "      <th>3</th>\n",
       "      <td>amit</td>\n",
       "      <td>38.0</td>\n",
       "    </tr>\n",
       "  </tbody>\n",
       "</table>\n",
       "</div>"
      ],
      "text/plain": [
       "     Name   Age\n",
       "0   rohan   1.0\n",
       "1  cishao  23.0\n",
       "2   rahul   NaN\n",
       "3    amit  38.0"
      ]
     },
     "execution_count": 13,
     "metadata": {},
     "output_type": "execute_result"
    }
   ],
   "source": [
    "dftest"
   ]
  },
  {
   "cell_type": "code",
   "execution_count": 14,
   "id": "04ae0d65-2d61-48f9-9696-015a0964ad59",
   "metadata": {},
   "outputs": [],
   "source": [
    "dftest.dropna(inplace = True)"
   ]
  },
  {
   "cell_type": "code",
   "execution_count": 15,
   "id": "b8b576cc-561f-4580-a5d1-57d4763f4540",
   "metadata": {},
   "outputs": [
    {
     "data": {
      "text/html": [
       "<div>\n",
       "<style scoped>\n",
       "    .dataframe tbody tr th:only-of-type {\n",
       "        vertical-align: middle;\n",
       "    }\n",
       "\n",
       "    .dataframe tbody tr th {\n",
       "        vertical-align: top;\n",
       "    }\n",
       "\n",
       "    .dataframe thead th {\n",
       "        text-align: right;\n",
       "    }\n",
       "</style>\n",
       "<table border=\"1\" class=\"dataframe\">\n",
       "  <thead>\n",
       "    <tr style=\"text-align: right;\">\n",
       "      <th></th>\n",
       "      <th>Name</th>\n",
       "      <th>Age</th>\n",
       "    </tr>\n",
       "  </thead>\n",
       "  <tbody>\n",
       "    <tr>\n",
       "      <th>0</th>\n",
       "      <td>rohan</td>\n",
       "      <td>1.0</td>\n",
       "    </tr>\n",
       "    <tr>\n",
       "      <th>1</th>\n",
       "      <td>cishao</td>\n",
       "      <td>23.0</td>\n",
       "    </tr>\n",
       "    <tr>\n",
       "      <th>3</th>\n",
       "      <td>amit</td>\n",
       "      <td>38.0</td>\n",
       "    </tr>\n",
       "  </tbody>\n",
       "</table>\n",
       "</div>"
      ],
      "text/plain": [
       "     Name   Age\n",
       "0   rohan   1.0\n",
       "1  cishao  23.0\n",
       "3    amit  38.0"
      ]
     },
     "execution_count": 15,
     "metadata": {},
     "output_type": "execute_result"
    }
   ],
   "source": [
    "dftest"
   ]
  },
  {
   "cell_type": "code",
   "execution_count": 16,
   "id": "cfa03cb2-a5c0-4486-b103-8d42a8329af8",
   "metadata": {},
   "outputs": [],
   "source": [
    "# We can use inplace = True or use and '=' operator for saving the changes to the dataframe\n",
    "# dftest dropna(inplace = True)\n",
    "# dftest = dftest.dropna()"
   ]
  },
  {
   "cell_type": "code",
   "execution_count": 17,
   "id": "3b819c38-8948-4d55-aab9-1d1765f1b3fe",
   "metadata": {},
   "outputs": [],
   "source": [
    "# change data type\n",
    "df['quantity'] = df['quantity'].astype('int')"
   ]
  },
  {
   "cell_type": "code",
   "execution_count": 18,
   "id": "73be5498-a197-412d-8120-1a8421c745c5",
   "metadata": {},
   "outputs": [
    {
     "name": "stdout",
     "output_type": "stream",
     "text": [
      "<class 'pandas.core.frame.DataFrame'>\n",
      "RangeIndex: 129 entries, 0 to 128\n",
      "Data columns (total 18 columns):\n",
      " #   Column             Non-Null Count  Dtype  \n",
      "---  ------             --------------  -----  \n",
      " 0   customer_name      129 non-null    object \n",
      " 1   address            129 non-null    object \n",
      " 2   pizza_id           129 non-null    float64\n",
      " 3   order_id           129 non-null    float64\n",
      " 4   quantity           129 non-null    int32  \n",
      " 5   order_date         129 non-null    object \n",
      " 6   order_time         129 non-null    object \n",
      " 7   unit_price         129 non-null    float64\n",
      " 8   total_price        129 non-null    float64\n",
      " 9   pizza_size         129 non-null    object \n",
      " 10  pizza_category     129 non-null    object \n",
      " 11  pizza_ingredients  129 non-null    object \n",
      " 12  pizza_name         129 non-null    object \n",
      " 13  country            129 non-null    object \n",
      " 14  state              129 non-null    object \n",
      " 15  customer_age       129 non-null    int64  \n",
      " 16  payment_mode       129 non-null    object \n",
      " 17  discount           129 non-null    float64\n",
      "dtypes: float64(5), int32(1), int64(1), object(11)\n",
      "memory usage: 17.8+ KB\n"
     ]
    }
   ],
   "source": [
    "df.info()"
   ]
  },
  {
   "cell_type": "code",
   "execution_count": 19,
   "id": "a262055b-58b6-4fd9-a03e-8107026d9b7e",
   "metadata": {},
   "outputs": [
    {
     "data": {
      "text/plain": [
       "dtype('int32')"
      ]
     },
     "execution_count": 19,
     "metadata": {},
     "output_type": "execute_result"
    }
   ],
   "source": [
    "df['quantity'].dtypes"
   ]
  },
  {
   "cell_type": "code",
   "execution_count": 20,
   "id": "fce8f6a0-d4aa-4cc2-8074-9265a78fa685",
   "metadata": {},
   "outputs": [],
   "source": [
    "df.rename(columns = {'pizza_id':'id'}, inplace = True)"
   ]
  },
  {
   "cell_type": "code",
   "execution_count": 21,
   "id": "7b731ef5-8395-4f9f-b628-d71b916cdacb",
   "metadata": {},
   "outputs": [
    {
     "data": {
      "text/plain": [
       "dtype('float64')"
      ]
     },
     "execution_count": 21,
     "metadata": {},
     "output_type": "execute_result"
    }
   ],
   "source": [
    "df['id'].dtypes"
   ]
  },
  {
   "cell_type": "code",
   "execution_count": 22,
   "id": "84487ded-a45f-456e-bf01-57f0e7f9a76e",
   "metadata": {},
   "outputs": [],
   "source": [
    "df['id'] = df['id'].astype('int')"
   ]
  },
  {
   "cell_type": "code",
   "execution_count": 23,
   "id": "c59c74f2-875c-47c3-af87-552ea5e86ccb",
   "metadata": {},
   "outputs": [
    {
     "data": {
      "text/plain": [
       "dtype('int32')"
      ]
     },
     "execution_count": 23,
     "metadata": {},
     "output_type": "execute_result"
    }
   ],
   "source": [
    "df['id'].dtypes"
   ]
  },
  {
   "cell_type": "code",
   "execution_count": 24,
   "id": "7087794b-9fd1-4d51-8552-63b02387fdcd",
   "metadata": {},
   "outputs": [
    {
     "data": {
      "text/plain": [
       "Index(['customer_name', 'address', 'id', 'order_id', 'quantity', 'order_date',\n",
       "       'order_time', 'unit_price', 'total_price', 'pizza_size',\n",
       "       'pizza_category', 'pizza_ingredients', 'pizza_name', 'country', 'state',\n",
       "       'customer_age', 'payment_mode', 'discount'],\n",
       "      dtype='object')"
      ]
     },
     "execution_count": 24,
     "metadata": {},
     "output_type": "execute_result"
    }
   ],
   "source": [
    "df.columns"
   ]
  },
  {
   "cell_type": "code",
   "execution_count": 25,
   "id": "fc7924d8-b84a-47af-a347-4f54f057a763",
   "metadata": {},
   "outputs": [
    {
     "data": {
      "text/html": [
       "<div>\n",
       "<style scoped>\n",
       "    .dataframe tbody tr th:only-of-type {\n",
       "        vertical-align: middle;\n",
       "    }\n",
       "\n",
       "    .dataframe tbody tr th {\n",
       "        vertical-align: top;\n",
       "    }\n",
       "\n",
       "    .dataframe thead th {\n",
       "        text-align: right;\n",
       "    }\n",
       "</style>\n",
       "<table border=\"1\" class=\"dataframe\">\n",
       "  <thead>\n",
       "    <tr style=\"text-align: right;\">\n",
       "      <th></th>\n",
       "      <th>id</th>\n",
       "      <th>order_id</th>\n",
       "      <th>quantity</th>\n",
       "      <th>unit_price</th>\n",
       "      <th>total_price</th>\n",
       "      <th>customer_age</th>\n",
       "      <th>discount</th>\n",
       "    </tr>\n",
       "  </thead>\n",
       "  <tbody>\n",
       "    <tr>\n",
       "      <th>count</th>\n",
       "      <td>129.000000</td>\n",
       "      <td>129.000000</td>\n",
       "      <td>129.0</td>\n",
       "      <td>129.000000</td>\n",
       "      <td>129.000000</td>\n",
       "      <td>129.000000</td>\n",
       "      <td>129.000000</td>\n",
       "    </tr>\n",
       "    <tr>\n",
       "      <th>mean</th>\n",
       "      <td>27.511628</td>\n",
       "      <td>30.658915</td>\n",
       "      <td>1.0</td>\n",
       "      <td>17.445736</td>\n",
       "      <td>17.445736</td>\n",
       "      <td>33.294574</td>\n",
       "      <td>0.504264</td>\n",
       "    </tr>\n",
       "    <tr>\n",
       "      <th>std</th>\n",
       "      <td>19.587590</td>\n",
       "      <td>15.624248</td>\n",
       "      <td>0.0</td>\n",
       "      <td>2.789307</td>\n",
       "      <td>2.789307</td>\n",
       "      <td>5.333273</td>\n",
       "      <td>0.186668</td>\n",
       "    </tr>\n",
       "    <tr>\n",
       "      <th>min</th>\n",
       "      <td>1.000000</td>\n",
       "      <td>1.000000</td>\n",
       "      <td>1.0</td>\n",
       "      <td>13.000000</td>\n",
       "      <td>13.000000</td>\n",
       "      <td>25.000000</td>\n",
       "      <td>0.200000</td>\n",
       "    </tr>\n",
       "    <tr>\n",
       "      <th>25%</th>\n",
       "      <td>11.000000</td>\n",
       "      <td>17.000000</td>\n",
       "      <td>1.0</td>\n",
       "      <td>15.500000</td>\n",
       "      <td>15.500000</td>\n",
       "      <td>29.000000</td>\n",
       "      <td>0.350000</td>\n",
       "    </tr>\n",
       "    <tr>\n",
       "      <th>50%</th>\n",
       "      <td>24.000000</td>\n",
       "      <td>37.000000</td>\n",
       "      <td>1.0</td>\n",
       "      <td>16.500000</td>\n",
       "      <td>16.500000</td>\n",
       "      <td>32.000000</td>\n",
       "      <td>0.500000</td>\n",
       "    </tr>\n",
       "    <tr>\n",
       "      <th>75%</th>\n",
       "      <td>40.000000</td>\n",
       "      <td>43.000000</td>\n",
       "      <td>1.0</td>\n",
       "      <td>20.750000</td>\n",
       "      <td>20.750000</td>\n",
       "      <td>36.000000</td>\n",
       "      <td>0.650000</td>\n",
       "    </tr>\n",
       "    <tr>\n",
       "      <th>max</th>\n",
       "      <td>74.000000</td>\n",
       "      <td>53.000000</td>\n",
       "      <td>1.0</td>\n",
       "      <td>22.000000</td>\n",
       "      <td>22.000000</td>\n",
       "      <td>45.000000</td>\n",
       "      <td>0.800000</td>\n",
       "    </tr>\n",
       "  </tbody>\n",
       "</table>\n",
       "</div>"
      ],
      "text/plain": [
       "               id    order_id  quantity  unit_price  total_price  \\\n",
       "count  129.000000  129.000000     129.0  129.000000   129.000000   \n",
       "mean    27.511628   30.658915       1.0   17.445736    17.445736   \n",
       "std     19.587590   15.624248       0.0    2.789307     2.789307   \n",
       "min      1.000000    1.000000       1.0   13.000000    13.000000   \n",
       "25%     11.000000   17.000000       1.0   15.500000    15.500000   \n",
       "50%     24.000000   37.000000       1.0   16.500000    16.500000   \n",
       "75%     40.000000   43.000000       1.0   20.750000    20.750000   \n",
       "max     74.000000   53.000000       1.0   22.000000    22.000000   \n",
       "\n",
       "       customer_age    discount  \n",
       "count    129.000000  129.000000  \n",
       "mean      33.294574    0.504264  \n",
       "std        5.333273    0.186668  \n",
       "min       25.000000    0.200000  \n",
       "25%       29.000000    0.350000  \n",
       "50%       32.000000    0.500000  \n",
       "75%       36.000000    0.650000  \n",
       "max       45.000000    0.800000  "
      ]
     },
     "execution_count": 25,
     "metadata": {},
     "output_type": "execute_result"
    }
   ],
   "source": [
    "df.describe()"
   ]
  },
  {
   "cell_type": "code",
   "execution_count": 26,
   "id": "5f1fd1f8-49d6-4cd3-a256-ea3375b843ff",
   "metadata": {},
   "outputs": [
    {
     "data": {
      "text/html": [
       "<div>\n",
       "<style scoped>\n",
       "    .dataframe tbody tr th:only-of-type {\n",
       "        vertical-align: middle;\n",
       "    }\n",
       "\n",
       "    .dataframe tbody tr th {\n",
       "        vertical-align: top;\n",
       "    }\n",
       "\n",
       "    .dataframe thead th {\n",
       "        text-align: right;\n",
       "    }\n",
       "</style>\n",
       "<table border=\"1\" class=\"dataframe\">\n",
       "  <thead>\n",
       "    <tr style=\"text-align: right;\">\n",
       "      <th></th>\n",
       "      <th>id</th>\n",
       "      <th>order_id</th>\n",
       "      <th>quantity</th>\n",
       "      <th>unit_price</th>\n",
       "      <th>total_price</th>\n",
       "    </tr>\n",
       "  </thead>\n",
       "  <tbody>\n",
       "    <tr>\n",
       "      <th>count</th>\n",
       "      <td>129.000000</td>\n",
       "      <td>129.000000</td>\n",
       "      <td>129.0</td>\n",
       "      <td>129.000000</td>\n",
       "      <td>129.000000</td>\n",
       "    </tr>\n",
       "    <tr>\n",
       "      <th>mean</th>\n",
       "      <td>27.511628</td>\n",
       "      <td>30.658915</td>\n",
       "      <td>1.0</td>\n",
       "      <td>17.445736</td>\n",
       "      <td>17.445736</td>\n",
       "    </tr>\n",
       "    <tr>\n",
       "      <th>std</th>\n",
       "      <td>19.587590</td>\n",
       "      <td>15.624248</td>\n",
       "      <td>0.0</td>\n",
       "      <td>2.789307</td>\n",
       "      <td>2.789307</td>\n",
       "    </tr>\n",
       "    <tr>\n",
       "      <th>min</th>\n",
       "      <td>1.000000</td>\n",
       "      <td>1.000000</td>\n",
       "      <td>1.0</td>\n",
       "      <td>13.000000</td>\n",
       "      <td>13.000000</td>\n",
       "    </tr>\n",
       "    <tr>\n",
       "      <th>25%</th>\n",
       "      <td>11.000000</td>\n",
       "      <td>17.000000</td>\n",
       "      <td>1.0</td>\n",
       "      <td>15.500000</td>\n",
       "      <td>15.500000</td>\n",
       "    </tr>\n",
       "    <tr>\n",
       "      <th>50%</th>\n",
       "      <td>24.000000</td>\n",
       "      <td>37.000000</td>\n",
       "      <td>1.0</td>\n",
       "      <td>16.500000</td>\n",
       "      <td>16.500000</td>\n",
       "    </tr>\n",
       "    <tr>\n",
       "      <th>75%</th>\n",
       "      <td>40.000000</td>\n",
       "      <td>43.000000</td>\n",
       "      <td>1.0</td>\n",
       "      <td>20.750000</td>\n",
       "      <td>20.750000</td>\n",
       "    </tr>\n",
       "    <tr>\n",
       "      <th>max</th>\n",
       "      <td>74.000000</td>\n",
       "      <td>53.000000</td>\n",
       "      <td>1.0</td>\n",
       "      <td>22.000000</td>\n",
       "      <td>22.000000</td>\n",
       "    </tr>\n",
       "  </tbody>\n",
       "</table>\n",
       "</div>"
      ],
      "text/plain": [
       "               id    order_id  quantity  unit_price  total_price\n",
       "count  129.000000  129.000000     129.0  129.000000   129.000000\n",
       "mean    27.511628   30.658915       1.0   17.445736    17.445736\n",
       "std     19.587590   15.624248       0.0    2.789307     2.789307\n",
       "min      1.000000    1.000000       1.0   13.000000    13.000000\n",
       "25%     11.000000   17.000000       1.0   15.500000    15.500000\n",
       "50%     24.000000   37.000000       1.0   16.500000    16.500000\n",
       "75%     40.000000   43.000000       1.0   20.750000    20.750000\n",
       "max     74.000000   53.000000       1.0   22.000000    22.000000"
      ]
     },
     "execution_count": 26,
     "metadata": {},
     "output_type": "execute_result"
    }
   ],
   "source": [
    "df[['id', 'order_id', 'quantity', 'order_date', 'order_time', 'unit_price', 'total_price']].describe()"
   ]
  },
  {
   "cell_type": "code",
   "execution_count": 27,
   "id": "7f994c84-27f6-4057-9f8a-06a2413382d5",
   "metadata": {},
   "outputs": [
    {
     "data": {
      "text/html": [
       "<div>\n",
       "<style scoped>\n",
       "    .dataframe tbody tr th:only-of-type {\n",
       "        vertical-align: middle;\n",
       "    }\n",
       "\n",
       "    .dataframe tbody tr th {\n",
       "        vertical-align: top;\n",
       "    }\n",
       "\n",
       "    .dataframe thead th {\n",
       "        text-align: right;\n",
       "    }\n",
       "</style>\n",
       "<table border=\"1\" class=\"dataframe\">\n",
       "  <thead>\n",
       "    <tr style=\"text-align: right;\">\n",
       "      <th></th>\n",
       "      <th>id</th>\n",
       "      <th>quantity</th>\n",
       "    </tr>\n",
       "  </thead>\n",
       "  <tbody>\n",
       "    <tr>\n",
       "      <th>count</th>\n",
       "      <td>129.000000</td>\n",
       "      <td>129.0</td>\n",
       "    </tr>\n",
       "    <tr>\n",
       "      <th>mean</th>\n",
       "      <td>27.511628</td>\n",
       "      <td>1.0</td>\n",
       "    </tr>\n",
       "    <tr>\n",
       "      <th>std</th>\n",
       "      <td>19.587590</td>\n",
       "      <td>0.0</td>\n",
       "    </tr>\n",
       "    <tr>\n",
       "      <th>min</th>\n",
       "      <td>1.000000</td>\n",
       "      <td>1.0</td>\n",
       "    </tr>\n",
       "    <tr>\n",
       "      <th>25%</th>\n",
       "      <td>11.000000</td>\n",
       "      <td>1.0</td>\n",
       "    </tr>\n",
       "    <tr>\n",
       "      <th>50%</th>\n",
       "      <td>24.000000</td>\n",
       "      <td>1.0</td>\n",
       "    </tr>\n",
       "    <tr>\n",
       "      <th>75%</th>\n",
       "      <td>40.000000</td>\n",
       "      <td>1.0</td>\n",
       "    </tr>\n",
       "    <tr>\n",
       "      <th>max</th>\n",
       "      <td>74.000000</td>\n",
       "      <td>1.0</td>\n",
       "    </tr>\n",
       "  </tbody>\n",
       "</table>\n",
       "</div>"
      ],
      "text/plain": [
       "               id  quantity\n",
       "count  129.000000     129.0\n",
       "mean    27.511628       1.0\n",
       "std     19.587590       0.0\n",
       "min      1.000000       1.0\n",
       "25%     11.000000       1.0\n",
       "50%     24.000000       1.0\n",
       "75%     40.000000       1.0\n",
       "max     74.000000       1.0"
      ]
     },
     "execution_count": 27,
     "metadata": {},
     "output_type": "execute_result"
    }
   ],
   "source": [
    "df[['id', 'quantity']].describe()"
   ]
  },
  {
   "cell_type": "markdown",
   "id": "23006d41-0339-4f5e-92b8-f1e390b5e56a",
   "metadata": {},
   "source": [
    "## Exploratory Data Analysis"
   ]
  },
  {
   "cell_type": "code",
   "execution_count": 28,
   "id": "9d6475eb-7cc9-4136-b7be-5fff9b61fb72",
   "metadata": {},
   "outputs": [
    {
     "data": {
      "text/plain": [
       "Index(['customer_name', 'address', 'id', 'order_id', 'quantity', 'order_date',\n",
       "       'order_time', 'unit_price', 'total_price', 'pizza_size',\n",
       "       'pizza_category', 'pizza_ingredients', 'pizza_name', 'country', 'state',\n",
       "       'customer_age', 'payment_mode', 'discount'],\n",
       "      dtype='object')"
      ]
     },
     "execution_count": 28,
     "metadata": {},
     "output_type": "execute_result"
    }
   ],
   "source": [
    "df.columns"
   ]
  },
  {
   "cell_type": "code",
   "execution_count": 29,
   "id": "03f3273c-8a90-4f07-991d-e03ad2fdaeed",
   "metadata": {},
   "outputs": [
    {
     "data": {
      "text/plain": [
       "<Axes: xlabel='pizza_category', ylabel='count'>"
      ]
     },
     "execution_count": 29,
     "metadata": {},
     "output_type": "execute_result"
    },
    {
     "data": {
      "image/png": "[encoded data removed]",
      "text/plain": [
       "<Figure size 640x480 with 1 Axes>"
      ]
     },
     "metadata": {},
     "output_type": "display_data"
    }
   ],
   "source": [
    "sns.countplot(x = 'pizza_category', data = df)"
   ]
  },
  {
   "cell_type": "code",
   "execution_count": 30,
   "id": "8d0006b1-eeef-42ca-a95a-10162a2c16fb",
   "metadata": {},
   "outputs": [
    {
     "data": {
      "image/png": "[encoded data removed]",
      "text/plain": [
       "<Figure size 640x480 with 1 Axes>"
      ]
     },
     "metadata": {},
     "output_type": "display_data"
    }
   ],
   "source": [
    "ax = sns.countplot(x = 'pizza_category', data = df)\n",
    "for bars in ax.containers:\n",
    "    ax.bar_label(bars)"
   ]
  },
  {
   "cell_type": "code",
   "execution_count": 31,
   "id": "20169cf5-c335-46dc-92aa-cd3b75f2c6d6",
   "metadata": {},
   "outputs": [
    {
     "data": {
      "text/html": [
       "<div>\n",
       "<style scoped>\n",
       "    .dataframe tbody tr th:only-of-type {\n",
       "        vertical-align: middle;\n",
       "    }\n",
       "\n",
       "    .dataframe tbody tr th {\n",
       "        vertical-align: top;\n",
       "    }\n",
       "\n",
       "    .dataframe thead th {\n",
       "        text-align: right;\n",
       "    }\n",
       "</style>\n",
       "<table border=\"1\" class=\"dataframe\">\n",
       "  <thead>\n",
       "    <tr style=\"text-align: right;\">\n",
       "      <th></th>\n",
       "      <th>pizza_name</th>\n",
       "      <th>quantity</th>\n",
       "    </tr>\n",
       "  </thead>\n",
       "  <tbody>\n",
       "    <tr>\n",
       "      <th>5</th>\n",
       "      <td>The Italian Supreme Pizza</td>\n",
       "      <td>21</td>\n",
       "    </tr>\n",
       "    <tr>\n",
       "      <th>0</th>\n",
       "      <td>The BBQ Chicken Pizza</td>\n",
       "      <td>16</td>\n",
       "    </tr>\n",
       "    <tr>\n",
       "      <th>4</th>\n",
       "      <td>The Hawaiian Pizza</td>\n",
       "      <td>12</td>\n",
       "    </tr>\n",
       "    <tr>\n",
       "      <th>9</th>\n",
       "      <td>The Prosciutto and Arugula Pizza</td>\n",
       "      <td>12</td>\n",
       "    </tr>\n",
       "    <tr>\n",
       "      <th>3</th>\n",
       "      <td>The Five Cheese Pizza</td>\n",
       "      <td>10</td>\n",
       "    </tr>\n",
       "    <tr>\n",
       "      <th>7</th>\n",
       "      <td>The Mexicana Pizza</td>\n",
       "      <td>9</td>\n",
       "    </tr>\n",
       "    <tr>\n",
       "      <th>8</th>\n",
       "      <td>The Pepperoni Pizza</td>\n",
       "      <td>9</td>\n",
       "    </tr>\n",
       "    <tr>\n",
       "      <th>11</th>\n",
       "      <td>The Veggie Supreme Pizza</td>\n",
       "      <td>9</td>\n",
       "    </tr>\n",
       "    <tr>\n",
       "      <th>1</th>\n",
       "      <td>The Classic Deluxe Pizza</td>\n",
       "      <td>8</td>\n",
       "    </tr>\n",
       "    <tr>\n",
       "      <th>2</th>\n",
       "      <td>The Classic Pizza</td>\n",
       "      <td>8</td>\n",
       "    </tr>\n",
       "    <tr>\n",
       "      <th>6</th>\n",
       "      <td>The Margherita Pizza</td>\n",
       "      <td>8</td>\n",
       "    </tr>\n",
       "    <tr>\n",
       "      <th>10</th>\n",
       "      <td>The Thai Chicken Pizza</td>\n",
       "      <td>7</td>\n",
       "    </tr>\n",
       "  </tbody>\n",
       "</table>\n",
       "</div>"
      ],
      "text/plain": [
       "                          pizza_name  quantity\n",
       "5          The Italian Supreme Pizza        21\n",
       "0              The BBQ Chicken Pizza        16\n",
       "4                 The Hawaiian Pizza        12\n",
       "9   The Prosciutto and Arugula Pizza        12\n",
       "3              The Five Cheese Pizza        10\n",
       "7                 The Mexicana Pizza         9\n",
       "8                The Pepperoni Pizza         9\n",
       "11          The Veggie Supreme Pizza         9\n",
       "1           The Classic Deluxe Pizza         8\n",
       "2                  The Classic Pizza         8\n",
       "6               The Margherita Pizza         8\n",
       "10            The Thai Chicken Pizza         7"
      ]
     },
     "execution_count": 31,
     "metadata": {},
     "output_type": "execute_result"
    }
   ],
   "source": [
    "df.groupby(['pizza_name'], as_index = False)['quantity'].sum().sort_values(by = 'quantity', ascending = False)"
   ]
  },
  {
   "cell_type": "code",
   "execution_count": 63,
   "id": "17ee4e18-fb00-453b-b25a-bf820d59e32d",
   "metadata": {},
   "outputs": [
    {
     "data": {
      "text/plain": [
       "<Axes: xlabel='pizza_name', ylabel='discount'>"
      ]
     },
     "execution_count": 63,
     "metadata": {},
     "output_type": "execute_result"
    },
    {
     "data": {
      "image/png": "[encoded data removed]",
      "text/plain": [
       "<Figure size 1500x300 with 1 Axes>"
      ]
     },
     "metadata": {},
     "output_type": "display_data"
    }
   ],
   "source": [
    "discounts_by_pizza = df.groupby(['pizza_name'], as_index=False)['discount'].sum()\n",
    "discounts_by_pizza = discounts_by_pizza.sort_values(by='discount', ascending=False).head(5)\n",
    "plt.figure(figsize=(15, 3))  # Adjust the figure height as needed\n",
    "sns.barplot(x='pizza_name', y='discount', data=discounts_by_pizza)"
   ]
  },
  {
   "cell_type": "markdown",
   "id": "6e15213d-22f0-4f92-8898-83d683e8dc23",
   "metadata": {},
   "source": [
    "The total discount for each pizza name, highlighting the top 5 pizzas with the highest total discount."
   ]
  },
  {
   "cell_type": "code",
   "execution_count": 33,
   "id": "21ecbd23-6c1c-41de-966f-385b191aad86",
   "metadata": {},
   "outputs": [
    {
     "data": {
      "text/plain": [
       "<Axes: xlabel='pizza_category', ylabel='count'>"
      ]
     },
     "execution_count": 33,
     "metadata": {},
     "output_type": "execute_result"
    },
    {
     "data": {
      "image/png": "[encoded data removed]",
      "text/plain": [
       "<Figure size 640x480 with 1 Axes>"
      ]
     },
     "metadata": {},
     "output_type": "display_data"
    }
   ],
   "source": [
    "sns.countplot(data = df, x = 'pizza_category', hue = 'pizza_size')"
   ]
  },
  {
   "cell_type": "code",
   "execution_count": 34,
   "id": "1c28a517-18bf-44c4-842f-25b1e0e01286",
   "metadata": {},
   "outputs": [
    {
     "data": {
      "image/png": "[encoded data removed]",
      "text/plain": [
       "<Figure size 640x480 with 1 Axes>"
      ]
     },
     "metadata": {},
     "output_type": "display_data"
    }
   ],
   "source": [
    "ax = sns.countplot(data = df, x = 'pizza_category', hue = 'pizza_size')\n",
    "for bars in ax.containers:\n",
    "    ax.bar_label(bars)"
   ]
  },
  {
   "cell_type": "code",
   "execution_count": 35,
   "id": "800f7323-c57f-4e57-836f-5167e19c61b9",
   "metadata": {},
   "outputs": [
    {
     "data": {
      "text/html": [
       "<div>\n",
       "<style scoped>\n",
       "    .dataframe tbody tr th:only-of-type {\n",
       "        vertical-align: middle;\n",
       "    }\n",
       "\n",
       "    .dataframe tbody tr th {\n",
       "        vertical-align: top;\n",
       "    }\n",
       "\n",
       "    .dataframe thead th {\n",
       "        text-align: right;\n",
       "    }\n",
       "</style>\n",
       "<table border=\"1\" class=\"dataframe\">\n",
       "  <thead>\n",
       "    <tr style=\"text-align: right;\">\n",
       "      <th></th>\n",
       "      <th>customer_name</th>\n",
       "      <th>address</th>\n",
       "      <th>id</th>\n",
       "      <th>order_id</th>\n",
       "      <th>quantity</th>\n",
       "      <th>order_date</th>\n",
       "      <th>order_time</th>\n",
       "      <th>unit_price</th>\n",
       "      <th>total_price</th>\n",
       "      <th>pizza_size</th>\n",
       "      <th>pizza_category</th>\n",
       "      <th>pizza_ingredients</th>\n",
       "      <th>pizza_name</th>\n",
       "      <th>country</th>\n",
       "      <th>state</th>\n",
       "      <th>customer_age</th>\n",
       "      <th>payment_mode</th>\n",
       "      <th>discount</th>\n",
       "    </tr>\n",
       "  </thead>\n",
       "  <tbody>\n",
       "    <tr>\n",
       "      <th>0</th>\n",
       "      <td>John Doe</td>\n",
       "      <td>123 Main St</td>\n",
       "      <td>1</td>\n",
       "      <td>1.0</td>\n",
       "      <td>1</td>\n",
       "      <td>1/1/2015</td>\n",
       "      <td>11:38:36</td>\n",
       "      <td>13.25</td>\n",
       "      <td>13.25</td>\n",
       "      <td>M</td>\n",
       "      <td>Classic</td>\n",
       "      <td>Sliced Ham, Pineapple, Mozzarella Cheese</td>\n",
       "      <td>The Hawaiian Pizza</td>\n",
       "      <td>India</td>\n",
       "      <td>Maharashtra</td>\n",
       "      <td>28</td>\n",
       "      <td>Card</td>\n",
       "      <td>0.50</td>\n",
       "    </tr>\n",
       "    <tr>\n",
       "      <th>1</th>\n",
       "      <td>Emma Johnson</td>\n",
       "      <td>456 Elm St</td>\n",
       "      <td>2</td>\n",
       "      <td>2.0</td>\n",
       "      <td>1</td>\n",
       "      <td>1/1/2015</td>\n",
       "      <td>11:57:40</td>\n",
       "      <td>16.00</td>\n",
       "      <td>16.00</td>\n",
       "      <td>M</td>\n",
       "      <td>Classic</td>\n",
       "      <td>Pepperoni, Mushrooms, Red Onions, Red Peppers,...</td>\n",
       "      <td>The Classic Deluxe Pizza</td>\n",
       "      <td>USA</td>\n",
       "      <td>California</td>\n",
       "      <td>35</td>\n",
       "      <td>Cash</td>\n",
       "      <td>0.75</td>\n",
       "    </tr>\n",
       "    <tr>\n",
       "      <th>2</th>\n",
       "      <td>Michael Brown</td>\n",
       "      <td>789 Oak St</td>\n",
       "      <td>3</td>\n",
       "      <td>2.0</td>\n",
       "      <td>1</td>\n",
       "      <td>1/1/2015</td>\n",
       "      <td>11:57:40</td>\n",
       "      <td>18.50</td>\n",
       "      <td>18.50</td>\n",
       "      <td>L</td>\n",
       "      <td>Veggie</td>\n",
       "      <td>Mozzarella Cheese, Provolone Cheese, Smoked Go...</td>\n",
       "      <td>The Five Cheese Pizza</td>\n",
       "      <td>Germany</td>\n",
       "      <td>Bavaria</td>\n",
       "      <td>42</td>\n",
       "      <td>Card</td>\n",
       "      <td>0.25</td>\n",
       "    </tr>\n",
       "  </tbody>\n",
       "</table>\n",
       "</div>"
      ],
      "text/plain": [
       "   customer_name      address  id  order_id  quantity order_date order_time  \\\n",
       "0       John Doe  123 Main St   1       1.0         1   1/1/2015   11:38:36   \n",
       "1   Emma Johnson   456 Elm St   2       2.0         1   1/1/2015   11:57:40   \n",
       "2  Michael Brown   789 Oak St   3       2.0         1   1/1/2015   11:57:40   \n",
       "\n",
       "   unit_price  total_price pizza_size pizza_category  \\\n",
       "0       13.25        13.25          M        Classic   \n",
       "1       16.00        16.00          M        Classic   \n",
       "2       18.50        18.50          L         Veggie   \n",
       "\n",
       "                                   pizza_ingredients  \\\n",
       "0           Sliced Ham, Pineapple, Mozzarella Cheese   \n",
       "1  Pepperoni, Mushrooms, Red Onions, Red Peppers,...   \n",
       "2  Mozzarella Cheese, Provolone Cheese, Smoked Go...   \n",
       "\n",
       "                 pizza_name  country        state  customer_age payment_mode  \\\n",
       "0        The Hawaiian Pizza    India  Maharashtra            28         Card   \n",
       "1  The Classic Deluxe Pizza      USA   California            35         Cash   \n",
       "2     The Five Cheese Pizza  Germany      Bavaria            42         Card   \n",
       "\n",
       "   discount  \n",
       "0      0.50  \n",
       "1      0.75  \n",
       "2      0.25  "
      ]
     },
     "execution_count": 35,
     "metadata": {},
     "output_type": "execute_result"
    }
   ],
   "source": [
    "df.head(3)"
   ]
  },
  {
   "cell_type": "code",
   "execution_count": 36,
   "id": "30aae806-8198-4600-b92a-4768ea410d50",
   "metadata": {},
   "outputs": [],
   "source": [
    "# It displays all the unique customer names\n",
    "unique_customers = df['customer_name'].unique()"
   ]
  },
  {
   "cell_type": "code",
   "execution_count": 37,
   "id": "f159dcbc-3af3-4e2a-9268-5277d476d5a2",
   "metadata": {},
   "outputs": [
    {
     "name": "stdout",
     "output_type": "stream",
     "text": [
      "['John Doe' 'Emma Johnson' 'Michael Brown' 'Sophia Martinez' 'James Smith'\n",
      " 'Sophia Wilson' 'Daniel Garcia' 'Emily Smith' 'Michael Wilson'\n",
      " 'David Martinez' 'Sophia Brown' 'Liam Johnson' 'Isabella Smith'\n",
      " 'William Johnson' 'Emma Smith' 'Sophia Johnson' 'James Wilson'\n",
      " 'Daniel Smith' 'Emma Brown' 'Sophia Smith' 'James Johnson'\n",
      " 'Nicholas Brown' 'Courtney Smith' 'David Johnson' 'Michelle Smith'\n",
      " 'Jonathan Brown' 'Stephanie Smith' 'Daniel Johnson' 'Jessica Brown'\n",
      " 'Matthew Johnson' 'Jennifer Smith' 'Christopher Wilson' 'Amanda Wilson'\n",
      " 'Robert Martinez' 'Eric Brown' 'Sarah Martinez' 'David Brown'\n",
      " 'Jessica Wilson' 'Emma Garcia' 'Michael Johnson' 'James Garcia'\n",
      " 'Emma Wilson' 'Megan Johnson' 'Matthew Smith' 'Lauren Brown'\n",
      " 'Kevin Johnson' 'Hannah Smith' 'Ryan Wilson' 'Rachel Johnson'\n",
      " 'Ethan Garcia' 'Natalie Brown' 'Justin Johnson' 'Alyssa Smith'\n",
      " 'Joshua Wilson' 'Olivia Garcia' 'Lucas Wilson' 'Sophie Johnson'\n",
      " 'Liam Garcia' 'Ethan Smith' 'Isabella Johnson' 'Lucas Brown' 'Mia Smith'\n",
      " 'Alexander Johnson' 'Aiden Smith' 'Olivia Johnson' 'Logan Brown'\n",
      " 'Amelia Wilson' 'William Brown' 'Sophie Garcia']\n"
     ]
    }
   ],
   "source": [
    "print(unique_customers)"
   ]
  },
  {
   "cell_type": "code",
   "execution_count": 38,
   "id": "56d3197a-0c00-4cd7-92ca-d3fe462cfd4d",
   "metadata": {},
   "outputs": [],
   "source": [
    "# creates a new instance of the dataframe and drops the records have duplicacy\n",
    "unique_records = df.drop_duplicates(subset=['customer_name'])"
   ]
  },
  {
   "cell_type": "code",
   "execution_count": 39,
   "id": "b45cc786-d536-46bf-8f1c-72a2ff13f122",
   "metadata": {},
   "outputs": [
    {
     "name": "stdout",
     "output_type": "stream",
     "text": [
      "       customer_name        address  id  order_id  quantity order_date  \\\n",
      "0           John Doe    123 Main St   1       1.0         1   1/1/2015   \n",
      "1       Emma Johnson     456 Elm St   2       2.0         1   1/1/2015   \n",
      "2      Michael Brown     789 Oak St   3       2.0         1   1/1/2015   \n",
      "3    Sophia Martinez    101 Pine St   4       2.0         1   1/1/2015   \n",
      "4        James Smith   202 Cedar St   5       2.0         1   1/1/2015   \n",
      "..               ...            ...  ..       ...       ...        ...   \n",
      "124   Olivia Johnson    125 Pine St  44      52.0         1   1/1/2015   \n",
      "125      Logan Brown   126 Cedar St  45      52.0         1   1/1/2015   \n",
      "126    Amelia Wilson  127 Walnut St  46      52.0         1   1/1/2015   \n",
      "127    William Brown  128 Orange St  47      53.0         1   1/1/2015   \n",
      "128    Sophie Garcia  129 Banana St  48      53.0         1   1/1/2015   \n",
      "\n",
      "    order_time  unit_price  total_price pizza_size pizza_category  \\\n",
      "0     11:38:36       13.25        13.25          M        Classic   \n",
      "1     11:57:40       16.00        16.00          M        Classic   \n",
      "2     11:57:40       18.50        18.50          L         Veggie   \n",
      "3     11:57:40       20.75        20.75          L        Supreme   \n",
      "4     11:57:40       16.00        16.00          M         Veggie   \n",
      "..         ...         ...          ...        ...            ...   \n",
      "124   12:16:31       13.00        13.00          M        Classic   \n",
      "125   12:16:31       21.00        21.00          L        Chicken   \n",
      "126   12:16:31       13.25        13.25          M        Classic   \n",
      "127   12:16:31       16.00        16.00          M        Classic   \n",
      "128   12:16:31       18.50        18.50          L         Veggie   \n",
      "\n",
      "                                     pizza_ingredients  \\\n",
      "0             Sliced Ham, Pineapple, Mozzarella Cheese   \n",
      "1    Pepperoni, Mushrooms, Red Onions, Red Peppers,...   \n",
      "2    Mozzarella Cheese, Provolone Cheese, Smoked Go...   \n",
      "3    Calabrese Salami, Capocollo, Tomatoes, Red Oni...   \n",
      "4    Tomatoes, Red Peppers, Jalapeno Peppers, Red O...   \n",
      "..                                                 ...   \n",
      "124           Tomatoes, Fresh Mozzarella Cheese, Basil   \n",
      "125  Chicken, BBQ Sauce, Red Onions, Cilantro, Mozz...   \n",
      "126           Sliced Ham, Pineapple, Mozzarella Cheese   \n",
      "127  Pepperoni, Mushrooms, Red Onions, Red Peppers,...   \n",
      "128  Mozzarella Cheese, Provolone Cheese, Smoked Go...   \n",
      "\n",
      "                    pizza_name    country          state  customer_age  \\\n",
      "0           The Hawaiian Pizza      India    Maharashtra            28   \n",
      "1     The Classic Deluxe Pizza        USA     California            35   \n",
      "2        The Five Cheese Pizza    Germany        Bavaria            42   \n",
      "3    The Italian Supreme Pizza     Canada        Ontario            29   \n",
      "4           The Mexicana Pizza     France  Île-de-France            37   \n",
      "..                         ...        ...            ...           ...   \n",
      "124       The Margherita Pizza  Argentina   Buenos Aires            41   \n",
      "125      The BBQ Chicken Pizza      Japan          Tokyo            29   \n",
      "126         The Hawaiian Pizza      India    Maharashtra            38   \n",
      "127   The Classic Deluxe Pizza        USA          Texas            29   \n",
      "128      The Five Cheese Pizza    Germany        Bavaria            33   \n",
      "\n",
      "    payment_mode  discount  \n",
      "0           Card      0.50  \n",
      "1           Cash      0.75  \n",
      "2           Card      0.25  \n",
      "3           Cash      0.80  \n",
      "4           Card      0.40  \n",
      "..           ...       ...  \n",
      "124         Card      0.75  \n",
      "125         Cash      0.50  \n",
      "126         Card      0.80  \n",
      "127         Cash      0.55  \n",
      "128         Card      0.25  \n",
      "\n",
      "[69 rows x 18 columns]\n"
     ]
    }
   ],
   "source": [
    "print(unique_records)"
   ]
  },
  {
   "cell_type": "code",
   "execution_count": 40,
   "id": "724572b8-9a98-4445-92b2-5657e04b3fe5",
   "metadata": {},
   "outputs": [
    {
     "data": {
      "text/html": [
       "<div>\n",
       "<style scoped>\n",
       "    .dataframe tbody tr th:only-of-type {\n",
       "        vertical-align: middle;\n",
       "    }\n",
       "\n",
       "    .dataframe tbody tr th {\n",
       "        vertical-align: top;\n",
       "    }\n",
       "\n",
       "    .dataframe thead th {\n",
       "        text-align: right;\n",
       "    }\n",
       "</style>\n",
       "<table border=\"1\" class=\"dataframe\">\n",
       "  <thead>\n",
       "    <tr style=\"text-align: right;\">\n",
       "      <th></th>\n",
       "      <th>customer_name</th>\n",
       "      <th>address</th>\n",
       "      <th>id</th>\n",
       "      <th>order_id</th>\n",
       "      <th>quantity</th>\n",
       "      <th>order_date</th>\n",
       "      <th>order_time</th>\n",
       "      <th>unit_price</th>\n",
       "      <th>total_price</th>\n",
       "      <th>pizza_size</th>\n",
       "      <th>pizza_category</th>\n",
       "      <th>pizza_ingredients</th>\n",
       "      <th>pizza_name</th>\n",
       "      <th>country</th>\n",
       "      <th>state</th>\n",
       "      <th>customer_age</th>\n",
       "      <th>payment_mode</th>\n",
       "      <th>discount</th>\n",
       "    </tr>\n",
       "  </thead>\n",
       "  <tbody>\n",
       "    <tr>\n",
       "      <th>0</th>\n",
       "      <td>John Doe</td>\n",
       "      <td>123 Main St</td>\n",
       "      <td>1</td>\n",
       "      <td>1.0</td>\n",
       "      <td>1</td>\n",
       "      <td>1/1/2015</td>\n",
       "      <td>11:38:36</td>\n",
       "      <td>13.25</td>\n",
       "      <td>13.25</td>\n",
       "      <td>M</td>\n",
       "      <td>Classic</td>\n",
       "      <td>Sliced Ham, Pineapple, Mozzarella Cheese</td>\n",
       "      <td>The Hawaiian Pizza</td>\n",
       "      <td>India</td>\n",
       "      <td>Maharashtra</td>\n",
       "      <td>28</td>\n",
       "      <td>Card</td>\n",
       "      <td>0.50</td>\n",
       "    </tr>\n",
       "    <tr>\n",
       "      <th>1</th>\n",
       "      <td>Emma Johnson</td>\n",
       "      <td>456 Elm St</td>\n",
       "      <td>2</td>\n",
       "      <td>2.0</td>\n",
       "      <td>1</td>\n",
       "      <td>1/1/2015</td>\n",
       "      <td>11:57:40</td>\n",
       "      <td>16.00</td>\n",
       "      <td>16.00</td>\n",
       "      <td>M</td>\n",
       "      <td>Classic</td>\n",
       "      <td>Pepperoni, Mushrooms, Red Onions, Red Peppers,...</td>\n",
       "      <td>The Classic Deluxe Pizza</td>\n",
       "      <td>USA</td>\n",
       "      <td>California</td>\n",
       "      <td>35</td>\n",
       "      <td>Cash</td>\n",
       "      <td>0.75</td>\n",
       "    </tr>\n",
       "    <tr>\n",
       "      <th>2</th>\n",
       "      <td>Michael Brown</td>\n",
       "      <td>789 Oak St</td>\n",
       "      <td>3</td>\n",
       "      <td>2.0</td>\n",
       "      <td>1</td>\n",
       "      <td>1/1/2015</td>\n",
       "      <td>11:57:40</td>\n",
       "      <td>18.50</td>\n",
       "      <td>18.50</td>\n",
       "      <td>L</td>\n",
       "      <td>Veggie</td>\n",
       "      <td>Mozzarella Cheese, Provolone Cheese, Smoked Go...</td>\n",
       "      <td>The Five Cheese Pizza</td>\n",
       "      <td>Germany</td>\n",
       "      <td>Bavaria</td>\n",
       "      <td>42</td>\n",
       "      <td>Card</td>\n",
       "      <td>0.25</td>\n",
       "    </tr>\n",
       "    <tr>\n",
       "      <th>3</th>\n",
       "      <td>Sophia Martinez</td>\n",
       "      <td>101 Pine St</td>\n",
       "      <td>4</td>\n",
       "      <td>2.0</td>\n",
       "      <td>1</td>\n",
       "      <td>1/1/2015</td>\n",
       "      <td>11:57:40</td>\n",
       "      <td>20.75</td>\n",
       "      <td>20.75</td>\n",
       "      <td>L</td>\n",
       "      <td>Supreme</td>\n",
       "      <td>Calabrese Salami, Capocollo, Tomatoes, Red Oni...</td>\n",
       "      <td>The Italian Supreme Pizza</td>\n",
       "      <td>Canada</td>\n",
       "      <td>Ontario</td>\n",
       "      <td>29</td>\n",
       "      <td>Cash</td>\n",
       "      <td>0.80</td>\n",
       "    </tr>\n",
       "    <tr>\n",
       "      <th>4</th>\n",
       "      <td>James Smith</td>\n",
       "      <td>202 Cedar St</td>\n",
       "      <td>5</td>\n",
       "      <td>2.0</td>\n",
       "      <td>1</td>\n",
       "      <td>1/1/2015</td>\n",
       "      <td>11:57:40</td>\n",
       "      <td>16.00</td>\n",
       "      <td>16.00</td>\n",
       "      <td>M</td>\n",
       "      <td>Veggie</td>\n",
       "      <td>Tomatoes, Red Peppers, Jalapeno Peppers, Red O...</td>\n",
       "      <td>The Mexicana Pizza</td>\n",
       "      <td>France</td>\n",
       "      <td>Île-de-France</td>\n",
       "      <td>37</td>\n",
       "      <td>Card</td>\n",
       "      <td>0.40</td>\n",
       "    </tr>\n",
       "  </tbody>\n",
       "</table>\n",
       "</div>"
      ],
      "text/plain": [
       "     customer_name       address  id  order_id  quantity order_date  \\\n",
       "0         John Doe   123 Main St   1       1.0         1   1/1/2015   \n",
       "1     Emma Johnson    456 Elm St   2       2.0         1   1/1/2015   \n",
       "2    Michael Brown    789 Oak St   3       2.0         1   1/1/2015   \n",
       "3  Sophia Martinez   101 Pine St   4       2.0         1   1/1/2015   \n",
       "4      James Smith  202 Cedar St   5       2.0         1   1/1/2015   \n",
       "\n",
       "  order_time  unit_price  total_price pizza_size pizza_category  \\\n",
       "0   11:38:36       13.25        13.25          M        Classic   \n",
       "1   11:57:40       16.00        16.00          M        Classic   \n",
       "2   11:57:40       18.50        18.50          L         Veggie   \n",
       "3   11:57:40       20.75        20.75          L        Supreme   \n",
       "4   11:57:40       16.00        16.00          M         Veggie   \n",
       "\n",
       "                                   pizza_ingredients  \\\n",
       "0           Sliced Ham, Pineapple, Mozzarella Cheese   \n",
       "1  Pepperoni, Mushrooms, Red Onions, Red Peppers,...   \n",
       "2  Mozzarella Cheese, Provolone Cheese, Smoked Go...   \n",
       "3  Calabrese Salami, Capocollo, Tomatoes, Red Oni...   \n",
       "4  Tomatoes, Red Peppers, Jalapeno Peppers, Red O...   \n",
       "\n",
       "                  pizza_name  country          state  customer_age  \\\n",
       "0         The Hawaiian Pizza    India    Maharashtra            28   \n",
       "1   The Classic Deluxe Pizza      USA     California            35   \n",
       "2      The Five Cheese Pizza  Germany        Bavaria            42   \n",
       "3  The Italian Supreme Pizza   Canada        Ontario            29   \n",
       "4         The Mexicana Pizza   France  Île-de-France            37   \n",
       "\n",
       "  payment_mode  discount  \n",
       "0         Card      0.50  \n",
       "1         Cash      0.75  \n",
       "2         Card      0.25  \n",
       "3         Cash      0.80  \n",
       "4         Card      0.40  "
      ]
     },
     "execution_count": 40,
     "metadata": {},
     "output_type": "execute_result"
    }
   ],
   "source": [
    "df.head(5)"
   ]
  },
  {
   "cell_type": "code",
   "execution_count": 41,
   "id": "40147bba-4515-4a44-ba0f-df80a32bd29b",
   "metadata": {},
   "outputs": [
    {
     "data": {
      "text/plain": [
       "Index(['customer_name', 'address', 'id', 'order_id', 'quantity', 'order_date',\n",
       "       'order_time', 'unit_price', 'total_price', 'pizza_size',\n",
       "       'pizza_category', 'pizza_ingredients', 'pizza_name', 'country', 'state',\n",
       "       'customer_age', 'payment_mode', 'discount'],\n",
       "      dtype='object')"
      ]
     },
     "execution_count": 41,
     "metadata": {},
     "output_type": "execute_result"
    }
   ],
   "source": [
    "df.columns"
   ]
  },
  {
   "cell_type": "code",
   "execution_count": 42,
   "id": "97643340-b6b9-4e2f-a7b3-2bafde07ef9f",
   "metadata": {},
   "outputs": [],
   "source": [
    "# Deletes all the records having United States in the country column\n",
    "df = df[df['country'] != 'United States']"
   ]
  },
  {
   "cell_type": "markdown",
   "id": "5fcf6828-e0bd-497b-9784-4513987cd749",
   "metadata": {},
   "source": [
    "# Replacing the country names with abbreviation\n",
    "df['country'] = df['country'].replace({'United Kingdom': 'UK'})"
   ]
  },
  {
   "cell_type": "code",
   "execution_count": 43,
   "id": "8d3c3073-8923-4f06-86b8-b6f2c8375f57",
   "metadata": {},
   "outputs": [
    {
     "data": {
      "image/png": "[encoded data removed]",
      "text/plain": [
       "<Figure size 2500x300 with 1 Axes>"
      ]
     },
     "metadata": {},
     "output_type": "display_data"
    }
   ],
   "source": [
    "plt.figure(figsize=(25, 3))\n",
    "\n",
    "ax = sns.countplot(data = df, x = 'country', hue = 'pizza_category')\n",
    "for bars in ax.containers:\n",
    "    ax.bar_label(bars)\n",
    "\n",
    "plt.show()"
   ]
  },
  {
   "cell_type": "markdown",
   "id": "9512f721-3215-4e7c-9c8c-72ec12a8d619",
   "metadata": {},
   "source": [
    "From above graphs we can see the most sold pizza was of \"Classic\" category and the least sold is of \"Meat\" category according to contry"
   ]
  },
  {
   "cell_type": "code",
   "execution_count": 44,
   "id": "ffafec0e-d788-4e49-b046-6668f9c9b731",
   "metadata": {},
   "outputs": [],
   "source": [
    "# Counts the sale of classic pizza from the pizza_category for all country\n",
    "classic_counts_by_country = df[df['pizza_category'] == 'Classic'].groupby('country').size()"
   ]
  },
  {
   "cell_type": "code",
   "execution_count": 45,
   "id": "d5fa3bd8-ec2d-491c-8a8e-b0fef2755786",
   "metadata": {},
   "outputs": [
    {
     "name": "stdout",
     "output_type": "stream",
     "text": [
      "country\n",
      "Argentina        6\n",
      "France           2\n",
      "Germany          1\n",
      "India           12\n",
      "South Africa     6\n",
      "Spain            1\n",
      "USA              8\n",
      "dtype: int64\n"
     ]
    }
   ],
   "source": [
    "print(classic_counts_by_country)"
   ]
  },
  {
   "cell_type": "code",
   "execution_count": 52,
   "id": "455d18c5-0e47-453e-96b6-29ec93b82521",
   "metadata": {},
   "outputs": [
    {
     "data": {
      "text/plain": [
       "<Axes: xlabel='country', ylabel='order_id'>"
      ]
     },
     "execution_count": 52,
     "metadata": {},
     "output_type": "execute_result"
    },
    {
     "data": {
      "image/png": "[encoded data removed]",
      "text/plain": [
       "<Figure size 1500x500 with 1 Axes>"
      ]
     },
     "metadata": {},
     "output_type": "display_data"
    }
   ],
   "source": [
    "sales_state = df.groupby(['country'], as_index= False)['order_id'].sum().sort_values(by = 'order_id', ascending = False).head(10)\n",
    "sns.set(rc = {'figure.figsize':(15, 5)})\n",
    "sns.barplot(data = sales_state, x = 'country', y = 'order_id', hue = 'country')"
   ]
  },
  {
   "cell_type": "markdown",
   "id": "e45feffa-ceaa-4058-9de3-02e7f1e83918",
   "metadata": {},
   "source": [
    "It give us the total orders placed by top 10 countries"
   ]
  },
  {
   "cell_type": "code",
   "execution_count": 64,
   "id": "272b4a95-8bc4-4e90-84ad-511e1324bce5",
   "metadata": {},
   "outputs": [
    {
     "data": {
      "text/plain": [
       "<Axes: xlabel='country', ylabel='unit_price'>"
      ]
     },
     "execution_count": 64,
     "metadata": {},
     "output_type": "execute_result"
    },
    {
     "data": {
      "image/png": "[encoded data removed]",
      "text/plain": [
       "<Figure size 1500x500 with 1 Axes>"
      ]
     },
     "metadata": {},
     "output_type": "display_data"
    }
   ],
   "source": [
    "sales_state = df.groupby(['country'], as_index= False)['unit_price'].sum().sort_values(by = 'unit_price', ascending = False).head(10)\n",
    "sns.set(rc = {'figure.figsize':(15, 5)})\n",
    "sns.barplot(data = sales_state, x = 'country', y = 'unit_price', hue = 'unit_price')"
   ]
  },
  {
   "cell_type": "markdown",
   "id": "dde26113-938f-4096-b2d9-0c6184bb7c61",
   "metadata": {},
   "source": [
    "It give us the highest unit price of pizzas by top 10 countries"
   ]
  },
  {
   "cell_type": "code",
   "execution_count": 66,
   "id": "f2201077-f954-44ba-9c10-dc47d5f4351b",
   "metadata": {},
   "outputs": [
    {
     "data": {
      "text/plain": [
       "Index(['customer_name', 'address', 'id', 'order_id', 'quantity', 'order_date',\n",
       "       'order_time', 'unit_price', 'total_price', 'pizza_size',\n",
       "       'pizza_category', 'pizza_ingredients', 'pizza_name', 'country', 'state',\n",
       "       'customer_age', 'payment_mode', 'discount'],\n",
       "      dtype='object')"
      ]
     },
     "execution_count": 66,
     "metadata": {},
     "output_type": "execute_result"
    }
   ],
   "source": [
    "df.columns"
   ]
  },
  {
   "cell_type": "code",
   "execution_count": 70,
   "id": "be088542-b716-4b21-bf7b-a7201119870d",
   "metadata": {},
   "outputs": [
    {
     "data": {
      "image/png": "[encoded data removed]",
      "text/plain": [
       "<Figure size 2000x500 with 1 Axes>"
      ]
     },
     "metadata": {},
     "output_type": "display_data"
    }
   ],
   "source": [
    "sns.set(rc = {'figure.figsize':(20, 5)})\n",
    "ax = sns.countplot(data = df, x = 'pizza_category', hue = 'pizza_category')\n",
    "\n",
    "for bars in ax.containers:\n",
    "    ax.bar_label(bars)"
   ]
  },
  {
   "cell_type": "markdown",
   "id": "53b50246-ed4d-4b6a-aa3b-3368800e44cc",
   "metadata": {},
   "source": [
    "Most of the pizza ordered was from classic category"
   ]
  },
  {
   "cell_type": "markdown",
   "id": "c5f1f42a-e5ac-49eb-8fd2-decc91c65a14",
   "metadata": {},
   "source": [
    "# Conclusion"
   ]
  },
  {
   "cell_type": "markdown",
   "id": "d9b03f46-04cf-4c28-99b2-33627c9bd455",
   "metadata": {},
   "source": [
    "The dataset indicates Classic pizzas are the most popular, with India recording the highest total orders and unit prices, while South Africa has the lowest order count among the top 10 countries. Italy is identified with the lowest unit price of pizzas. The dataset contains 18 columns encompassing customer information, order details, pizza attributes, and payment methods."
   ]
  },
  {
   "cell_type": "code",
   "execution_count": null,
   "id": "a9a82567-f302-404c-b6c2-54f9532155f0",
   "metadata": {},
   "outputs": [],
   "source": [
    "Project could be found on GitHub : "
   ]
  }
 ],
 "metadata": {
  "kernelspec": {
   "display_name": "Python 3 (ipykernel)",
   "language": "python",
   "name": "python3"
  },
  "language_info": {
   "codemirror_mode": {
    "name": "ipython",
    "version": 3
   },
   "file_extension": ".py",
   "mimetype": "text/x-python",
   "name": "python",
   "nbconvert_exporter": "python",
   "pygments_lexer": "ipython3",
   "version": "3.12.2"
  }
 },
 "nbformat": 4,
 "nbformat_minor": 5
}
